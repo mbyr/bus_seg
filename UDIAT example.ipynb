{
 "cells": [
  {
   "cell_type": "markdown",
   "metadata": {},
   "source": [
    "# Segmentation of images from the UDIAT dataset\n",
    "\n",
    "UDIAT is a publically available dataset of breast mass ultrasound images. For the details, we suggest to read the original paper by [Yap et al., IEEE JBHI paper](https://doi.org/10.1109/JBHI.2017.2731873). The dataset can be downloaded at the project's [website](http://goo.gl/SJmoti). After downloading, extract the files to 'data/UDIAT/'."
   ]
  },
  {
   "cell_type": "code",
   "execution_count": 2,
   "metadata": {
    "collapsed": false
   },
   "outputs": [],
   "source": [
    "import numpy as np\n",
    "import matplotlib.pyplot as plt\n",
    "import cv2 \n",
    "\n",
    "from os import listdir\n",
    "from seg_lib import dice_coef_np, selective_unet"
   ]
  },
  {
   "cell_type": "code",
   "execution_count": 3,
   "metadata": {
    "collapsed": false
   },
   "outputs": [],
   "source": [
    "images_udiat, rois_udiat = [], []\n",
    "\n",
    "dsize = (224, 224)\n",
    "\n",
    "path = 'data/udiat/'\n",
    "img_file = listdir(path+'original')\n",
    "\n",
    "for i, file in enumerate(img_file):\n",
    "    \n",
    "    img = cv2.imread(path+'original/'+file, 0)\n",
    "    roi = cv2.imread(path+'GT/'+file, 0)/255\n",
    "    \n",
    "    img = cv2.resize(img, dsize, interpolation=cv2.INTER_CUBIC)\n",
    "    roi = cv2.resize(roi, dsize, interpolation=cv2.INTER_NEAREST)\n",
    "    \n",
    "    images_udiat.append(img)\n",
    "    rois_udiat.append(roi)\n",
    "    \n",
    "images_udiat = np.array(images_udiat, dtype=np.float32)\n",
    "images_udiat = np.expand_dims(images_udiat, 3)\n",
    "\n",
    "rois_udiat = np.array(rois_udiat, dtype=np.int16)\n",
    "rois_udiat = np.expand_dims(rois_udiat, 3)"
   ]
  },
  {
   "cell_type": "markdown",
   "metadata": {},
   "source": [
    "[SK-U-Net weights](https://drive.google.com/file/d/1cVEAcoyA5wLHxoCtOAIX2bKusxJsBvYM/view?usp=sharing) (via Google Drive)"
   ]
  },
  {
   "cell_type": "code",
   "execution_count": 4,
   "metadata": {
    "collapsed": true
   },
   "outputs": [],
   "source": [
    "model = selective_unet()\n",
    "model.load_weights('models/skunet_weights.h5') "
   ]
  },
  {
   "cell_type": "code",
   "execution_count": 5,
   "metadata": {
    "collapsed": false
   },
   "outputs": [],
   "source": [
    "rois_predicted = model.predict(images_udiat).squeeze().round()"
   ]
  },
  {
   "cell_type": "code",
   "execution_count": 6,
   "metadata": {
    "collapsed": false
   },
   "outputs": [],
   "source": [
    "dices = np.zeros(rois_predicted.shape[0])\n",
    "\n",
    "for i in range(rois_predicted .shape[0]):\n",
    "    \n",
    "    dices[i] = dice_coef_np(rois_predicted[i], rois_udiat[i])"
   ]
  },
  {
   "cell_type": "code",
   "execution_count": 7,
   "metadata": {
    "collapsed": false
   },
   "outputs": [
    {
     "name": "stdout",
     "output_type": "stream",
     "text": [
      "Dice scores | mean: 0.772 median: 0.874 mean Dice>0.5: 0.855\n"
     ]
    }
   ],
   "source": [
    "# Results are slightly different compared to our paper. Originally, we additionally preprocessed the images in Matlab.\n",
    "print('Dice scores | mean:', np.mean(dices).round(3), 'median:', np.median(dices).round(3), 'mean Dice>0.5:', np.mean(dices[dices>0.5]).round(3))"
   ]
  }
 ],
 "metadata": {
  "anaconda-cloud": {},
  "kernelspec": {
   "display_name": "Python [default]",
   "language": "python",
   "name": "python3"
  },
  "language_info": {
   "codemirror_mode": {
    "name": "ipython",
    "version": 3
   },
   "file_extension": ".py",
   "mimetype": "text/x-python",
   "name": "python",
   "nbconvert_exporter": "python",
   "pygments_lexer": "ipython3",
   "version": "3.5.2"
  }
 },
 "nbformat": 4,
 "nbformat_minor": 1
}
